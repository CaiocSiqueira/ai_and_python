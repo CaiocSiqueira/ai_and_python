{
 "cells": [
  {
   "cell_type": "markdown",
   "id": "91b94053",
   "metadata": {},
   "source": [
    "## Numpy review"
   ]
  },
  {
   "cell_type": "code",
   "execution_count": 1,
   "id": "73878d11",
   "metadata": {},
   "outputs": [],
   "source": [
    "import numpy as np"
   ]
  },
  {
   "cell_type": "code",
   "execution_count": 2,
   "id": "23a14edf",
   "metadata": {},
   "outputs": [
    {
     "data": {
      "text/plain": [
       "array([1, 2, 3, 4, 5, 6, 7, 8, 9])"
      ]
     },
     "execution_count": 2,
     "metadata": {},
     "output_type": "execute_result"
    }
   ],
   "source": [
    "# 1d array:\n",
    "np.array([1,2,3,4,5,6,7,8,9])"
   ]
  },
  {
   "cell_type": "code",
   "execution_count": 4,
   "id": "5426b0d1",
   "metadata": {},
   "outputs": [
    {
     "data": {
      "text/plain": [
       "array([[1, 2, 3, 4, 5, 6, 7, 8, 9],\n",
       "       [9, 8, 7, 6, 5, 4, 3, 2, 1]])"
      ]
     },
     "execution_count": 4,
     "metadata": {},
     "output_type": "execute_result"
    }
   ],
   "source": [
    "# 2d array:\n",
    "np.array([(1,2,3,4,5,6,7,8,9), (9,8,7,6,5,4,3,2,1)])"
   ]
  },
  {
   "cell_type": "code",
   "execution_count": 6,
   "id": "b206ed76",
   "metadata": {},
   "outputs": [
    {
     "data": {
      "text/plain": [
       "array([1, 2, 3, 4, 5])"
      ]
     },
     "execution_count": 6,
     "metadata": {},
     "output_type": "execute_result"
    }
   ],
   "source": [
    "# Creating an array using a list\n",
    "num = [1, 2, 3, 4, 5]\n",
    "np.array(num)"
   ]
  },
  {
   "cell_type": "markdown",
   "id": "5fd086f7",
   "metadata": {},
   "source": [
    "## Generating arrays"
   ]
  },
  {
   "cell_type": "markdown",
   "id": "e582fa39",
   "metadata": {},
   "source": [
    "With numpy, we have several options of generating an array such as:\n",
    " 1. Identity array\n",
    " 2. Array full of zeros\n",
    " 3. Generating an array in a given range\n",
    " 4. Generating an array with a given size\n",
    " 5. Random values array\n",
    " "
   ]
  },
  {
   "cell_type": "code",
   "execution_count": 7,
   "id": "9248b61c",
   "metadata": {},
   "outputs": [
    {
     "name": "stdout",
     "output_type": "stream",
     "text": [
      "[[1. 0. 0. 0. 0. 0.]\n",
      " [0. 1. 0. 0. 0. 0.]\n",
      " [0. 0. 1. 0. 0. 0.]\n",
      " [0. 0. 0. 1. 0. 0.]\n",
      " [0. 0. 0. 0. 1. 0.]\n",
      " [0. 0. 0. 0. 0. 1.]]\n"
     ]
    }
   ],
   "source": [
    "# Identity array\n",
    "identity = np.identity(6)\n",
    "print(identity)"
   ]
  },
  {
   "cell_type": "code",
   "execution_count": 8,
   "id": "6b89a8d1",
   "metadata": {},
   "outputs": [
    {
     "name": "stdout",
     "output_type": "stream",
     "text": [
      "[0. 0. 0. 0. 0. 0. 0. 0. 0.]\n"
     ]
    }
   ],
   "source": [
    "# Array full of zeros\n",
    "print(np.zeros(9))"
   ]
  },
  {
   "cell_type": "code",
   "execution_count": 10,
   "id": "15708193",
   "metadata": {},
   "outputs": [
    {
     "name": "stdout",
     "output_type": "stream",
     "text": [
      "[[0. 0. 0. 0. 0. 0. 0. 0. 0.]\n",
      " [0. 0. 0. 0. 0. 0. 0. 0. 0.]\n",
      " [0. 0. 0. 0. 0. 0. 0. 0. 0.]\n",
      " [0. 0. 0. 0. 0. 0. 0. 0. 0.]\n",
      " [0. 0. 0. 0. 0. 0. 0. 0. 0.]\n",
      " [0. 0. 0. 0. 0. 0. 0. 0. 0.]\n",
      " [0. 0. 0. 0. 0. 0. 0. 0. 0.]\n",
      " [0. 0. 0. 0. 0. 0. 0. 0. 0.]\n",
      " [0. 0. 0. 0. 0. 0. 0. 0. 0.]]\n"
     ]
    }
   ],
   "source": [
    "# 2d array of zeros\n",
    "print(np.zeros((9, 9)))"
   ]
  },
  {
   "cell_type": "code",
   "execution_count": 12,
   "id": "385f806f",
   "metadata": {},
   "outputs": [
    {
     "name": "stdout",
     "output_type": "stream",
     "text": [
      "[[1. 1. 1. 1. 1.]\n",
      " [1. 1. 1. 1. 1.]\n",
      " [1. 1. 1. 1. 1.]\n",
      " [1. 1. 1. 1. 1.]\n",
      " [1. 1. 1. 1. 1.]\n",
      " [1. 1. 1. 1. 1.]\n",
      " [1. 1. 1. 1. 1.]\n",
      " [1. 1. 1. 1. 1.]\n",
      " [1. 1. 1. 1. 1.]]\n"
     ]
    }
   ],
   "source": [
    "# We can also do it with ones\n",
    "print(np.ones((9, 5)))"
   ]
  },
  {
   "cell_type": "code",
   "execution_count": 14,
   "id": "1eaac80d",
   "metadata": {},
   "outputs": [
    {
     "data": {
      "text/plain": [
       "array([0, 1, 2, 3, 4, 5, 6, 7, 8])"
      ]
     },
     "execution_count": 14,
     "metadata": {},
     "output_type": "execute_result"
    }
   ],
   "source": [
    "# Array in a given range\n",
    "np.arange(0, 9)"
   ]
  },
  {
   "cell_type": "markdown",
   "id": "2872ef35",
   "metadata": {},
   "source": [
    "##### in the above case, the range uses a closed interval to the left\n",
    "##### and an open interval to the right np.arange(x, y) will\n",
    "##### produce an array [x,y["
   ]
  },
  {
   "cell_type": "code",
   "execution_count": 20,
   "id": "f0d692d6",
   "metadata": {},
   "outputs": [
    {
     "data": {
      "text/plain": [
       "array([  0.,  25.,  50.,  75., 100.])"
      ]
     },
     "execution_count": 20,
     "metadata": {},
     "output_type": "execute_result"
    }
   ],
   "source": [
    "# It is also possible to linspace an array\n",
    "np.linspace(0,100,5)"
   ]
  },
  {
   "cell_type": "code",
   "execution_count": 21,
   "id": "75da69c1",
   "metadata": {},
   "outputs": [
    {
     "data": {
      "text/plain": [
       "array([[0.6102908 , 0.06912946, 0.28298765, 0.82705381, 0.62752419],\n",
       "       [0.37683718, 0.42756399, 0.71449017, 0.18349644, 0.61514556],\n",
       "       [0.88890417, 0.08062049, 0.24458709, 0.84935621, 0.32379807],\n",
       "       [0.02431214, 0.48648068, 0.20888687, 0.93599226, 0.14500271]])"
      ]
     },
     "execution_count": 21,
     "metadata": {},
     "output_type": "execute_result"
    }
   ],
   "source": [
    "# Random arrays\n",
    "np.random.rand(4, 5)"
   ]
  },
  {
   "cell_type": "code",
   "execution_count": 22,
   "id": "1b608bfd",
   "metadata": {},
   "outputs": [
    {
     "data": {
      "text/plain": [
       "5"
      ]
     },
     "execution_count": 22,
     "metadata": {},
     "output_type": "execute_result"
    }
   ],
   "source": [
    "# Generate one random integer in a given range\n",
    "np.random.randint(5, 6)"
   ]
  },
  {
   "cell_type": "markdown",
   "id": "e2ef762c",
   "metadata": {},
   "source": [
    "## Array indexing and selection"
   ]
  },
  {
   "cell_type": "code",
   "execution_count": 29,
   "id": "038bb13b",
   "metadata": {},
   "outputs": [],
   "source": [
    "array_1d = np.array([1,2,3,4,5,6,7,8,9])"
   ]
  },
  {
   "cell_type": "code",
   "execution_count": 30,
   "id": "3a08c17e",
   "metadata": {},
   "outputs": [
    {
     "data": {
      "text/plain": [
       "array([1, 2, 3, 4, 5, 6, 7, 8, 9])"
      ]
     },
     "execution_count": 30,
     "metadata": {},
     "output_type": "execute_result"
    }
   ],
   "source": [
    "array_1d"
   ]
  },
  {
   "cell_type": "code",
   "execution_count": 31,
   "id": "9a18f9e7",
   "metadata": {},
   "outputs": [
    {
     "data": {
      "text/plain": [
       "4"
      ]
     },
     "execution_count": 31,
     "metadata": {},
     "output_type": "execute_result"
    }
   ],
   "source": [
    "array_1d[3]"
   ]
  },
  {
   "cell_type": "code",
   "execution_count": 32,
   "id": "3c824d8b",
   "metadata": {},
   "outputs": [
    {
     "data": {
      "text/plain": [
       "9"
      ]
     },
     "execution_count": 32,
     "metadata": {},
     "output_type": "execute_result"
    }
   ],
   "source": [
    "array_1d[-1]"
   ]
  },
  {
   "cell_type": "code",
   "execution_count": 33,
   "id": "e467aa4c",
   "metadata": {},
   "outputs": [
    {
     "data": {
      "text/plain": [
       "array([3, 4, 5])"
      ]
     },
     "execution_count": 33,
     "metadata": {},
     "output_type": "execute_result"
    }
   ],
   "source": [
    "array_1d[2:5]"
   ]
  },
  {
   "cell_type": "markdown",
   "id": "26f99f27",
   "metadata": {},
   "source": [
    "## 2d array"
   ]
  },
  {
   "cell_type": "code",
   "execution_count": 36,
   "id": "21122756",
   "metadata": {},
   "outputs": [],
   "source": [
    "array_2d = np.array([(1,2,3,4,7,8,9), (9,8,7,6,3,2,1), (4,3,2,5,7,8,9)])"
   ]
  },
  {
   "cell_type": "code",
   "execution_count": 37,
   "id": "efb2808f",
   "metadata": {},
   "outputs": [
    {
     "data": {
      "text/plain": [
       "array([[1, 2, 3, 4, 7, 8, 9],\n",
       "       [9, 8, 7, 6, 3, 2, 1],\n",
       "       [4, 3, 2, 5, 7, 8, 9]])"
      ]
     },
     "execution_count": 37,
     "metadata": {},
     "output_type": "execute_result"
    }
   ],
   "source": [
    "array_2d"
   ]
  },
  {
   "cell_type": "code",
   "execution_count": 40,
   "id": "53042d41",
   "metadata": {},
   "outputs": [
    {
     "data": {
      "text/plain": [
       "7"
      ]
     },
     "execution_count": 40,
     "metadata": {},
     "output_type": "execute_result"
    }
   ],
   "source": [
    "# array[row][column]\n",
    "array_2d[1][2]"
   ]
  },
  {
   "cell_type": "code",
   "execution_count": 41,
   "id": "55525059",
   "metadata": {},
   "outputs": [
    {
     "data": {
      "text/plain": [
       "array([1, 2, 3, 4, 7, 8, 9])"
      ]
     },
     "execution_count": 41,
     "metadata": {},
     "output_type": "execute_result"
    }
   ],
   "source": [
    "array_2d[0]"
   ]
  },
  {
   "cell_type": "code",
   "execution_count": 53,
   "id": "4079b905",
   "metadata": {},
   "outputs": [
    {
     "data": {
      "text/plain": [
       "array([[1, 2, 3, 4, 7, 8, 9],\n",
       "       [9, 8, 7, 6, 3, 2, 1]])"
      ]
     },
     "execution_count": 53,
     "metadata": {},
     "output_type": "execute_result"
    }
   ],
   "source": [
    "# Selection a group of elements\n",
    "array_2d[:2]"
   ]
  },
  {
   "cell_type": "code",
   "execution_count": 46,
   "id": "5f989c71",
   "metadata": {},
   "outputs": [
    {
     "data": {
      "text/plain": [
       "array([[1, 2, 3, 4, 7, 8, 9],\n",
       "       [9, 8, 7, 6, 3, 2, 1],\n",
       "       [4, 3, 2, 5, 7, 8, 9]])"
      ]
     },
     "execution_count": 46,
     "metadata": {},
     "output_type": "execute_result"
    }
   ],
   "source": [
    "array_2d"
   ]
  },
  {
   "cell_type": "code",
   "execution_count": 51,
   "id": "7c08fd08",
   "metadata": {},
   "outputs": [
    {
     "data": {
      "text/plain": [
       "array([1, 2, 3, 4, 7, 8, 9])"
      ]
     },
     "execution_count": 51,
     "metadata": {},
     "output_type": "execute_result"
    }
   ],
   "source": [
    "# Return the first row\n",
    "array_2d[0,:]"
   ]
  },
  {
   "cell_type": "markdown",
   "id": "3fe94eea",
   "metadata": {},
   "source": [
    "## Condicionals"
   ]
  },
  {
   "cell_type": "code",
   "execution_count": 55,
   "id": "8d3b60a4",
   "metadata": {},
   "outputs": [
    {
     "data": {
      "text/plain": [
       "array([1, 2])"
      ]
     },
     "execution_count": 55,
     "metadata": {},
     "output_type": "execute_result"
    }
   ],
   "source": [
    "arr= np.array(([1,2,3],[4,5,6],[7,8,9]))\n",
    "\n",
    "# Select all elements that are less than 3\n",
    "\n",
    "arr[arr<3]"
   ]
  },
  {
   "cell_type": "code",
   "execution_count": 56,
   "id": "c68c8e00",
   "metadata": {},
   "outputs": [
    {
     "data": {
      "text/plain": [
       "array([1, 3, 5, 7, 9])"
      ]
     },
     "execution_count": 56,
     "metadata": {},
     "output_type": "execute_result"
    }
   ],
   "source": [
    "# Select all elements that are odd\n",
    "\n",
    "arr[arr % 2 != 0]"
   ]
  },
  {
   "cell_type": "code",
   "execution_count": 57,
   "id": "f3404bae",
   "metadata": {},
   "outputs": [
    {
     "data": {
      "text/plain": [
       "array([6, 8])"
      ]
     },
     "execution_count": 57,
     "metadata": {},
     "output_type": "execute_result"
    }
   ],
   "source": [
    "# Multiple conditions\n",
    "arr[(arr % 2 == 0) & (arr > 4)]"
   ]
  },
  {
   "cell_type": "code",
   "execution_count": null,
   "id": "98802e24",
   "metadata": {},
   "outputs": [],
   "source": []
  }
 ],
 "metadata": {
  "kernelspec": {
   "display_name": "Python 3 (ipykernel)",
   "language": "python",
   "name": "python3"
  },
  "language_info": {
   "codemirror_mode": {
    "name": "ipython",
    "version": 3
   },
   "file_extension": ".py",
   "mimetype": "text/x-python",
   "name": "python",
   "nbconvert_exporter": "python",
   "pygments_lexer": "ipython3",
   "version": "3.10.8"
  }
 },
 "nbformat": 4,
 "nbformat_minor": 5
}
